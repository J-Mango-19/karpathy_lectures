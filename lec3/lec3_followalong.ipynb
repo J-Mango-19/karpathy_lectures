{
 "cells": [
  {
   "cell_type": "code",
   "execution_count": 2,
   "id": "23a8e625-1cc1-4904-be97-e3b9dde68f5f",
   "metadata": {},
   "outputs": [],
   "source": [
    "# lecture 3\n",
    "\n",
    "# previous lecture's model was weak\n",
    "# but if we scale up the bigram model table\n",
    "# the number of elements in the matrix grows exponentially\n",
    "# elements = vocab_size^context_len"
   ]
  },
  {
   "cell_type": "code",
   "execution_count": 3,
   "id": "76bc26a6-e4a8-45ae-9bc1-e2541ae4bdfd",
   "metadata": {},
   "outputs": [],
   "source": [
    "# We will follow the MLP LM from Bengio el al 2003\n",
    "# \"A neural Probabilisitc Language Model\"\n",
    "\n",
    "# we are building a character level language model\n",
    "# we will stick with characters but take the same modeling approach\n",
    "\n",
    "# To each word, embed it into a 30-dimensional feature vector\n",
    "# The paper has 17,000 words in 30-dimensional space\n",
    "# Embeddings get tuned using backpropagation to get semantic orientation\n",
    "\n",
    "# To train the network, maximize the log-likelihood of the training data\n",
    "# under the model\n",
    "\n",
    "# 3 previous words are used to predict the fourth word in a sequence\n",
    "\n",
    "# using the index of the word, the embedding is fed into the model\n",
    "# by indexing into the embedding matrix C (equivalent to multiplying C\n",
    "# with a one-hot vector of the index) \n",
    "# 00010 @ C --> fourth row of C <==> C[3]\n",
    "\n",
    "# output layer is a probability distribution over vocab_size\n",
    "# Use it to find the likelihood of the one-hot encoded true next word"
   ]
  },
  {
   "cell_type": "code",
   "execution_count": 266,
   "id": "bffb66a5-fed1-4cab-94df-d66e7f7b78ec",
   "metadata": {},
   "outputs": [],
   "source": [
    "import torch\n",
    "import torch.nn.functional as F\n",
    "import matplotlib.pyplot as plt\n",
    "%matplotlib inline"
   ]
  },
  {
   "cell_type": "code",
   "execution_count": 267,
   "id": "1c26d4e3-cea5-49c6-9e47-7f2cdfc7ad2c",
   "metadata": {},
   "outputs": [],
   "source": [
    "# build the vocabulary of characters and mappings to/from integers\n",
    "with open('./data/names.txt', 'r') as f:\n",
    "    words = f.read().splitlines()\n",
    "\n",
    "chars = sorted(list(set(''.join(words))))\n",
    "stoi = {s : i+1 for i, s in enumerate(chars)}\n",
    "stoi['.'] = 0\n",
    "itos = {i : s for s, i in stoi.items()}\n"
   ]
  },
  {
   "cell_type": "code",
   "execution_count": 3,
   "id": "db2dc4f9-fcf0-478f-855d-f672c654274d",
   "metadata": {},
   "outputs": [],
   "source": [
    "block_size = 3 # context length\n",
    "X, Y = [], []\n",
    "for w in words:\n",
    "    #print(w)\n",
    "    context = [0]*block_size\n",
    "    for ch in w + '.':\n",
    "        ix = stoi[ch]\n",
    "        X.append(context)\n",
    "        Y.append(ix)\n",
    "        #print(''.join(itos[i] for i in context), '-->', itos[ix])\n",
    "        context = context[1:] + [ix] # crop and append\n",
    "X=torch.tensor(X); Y=torch.tensor(Y)"
   ]
  },
  {
   "cell_type": "code",
   "execution_count": 7,
   "id": "5599de56-4c99-49c5-9362-2af788949d54",
   "metadata": {},
   "outputs": [
    {
     "data": {
      "text/plain": [
       "(torch.Size([228146, 3]), torch.Size([228146]))"
      ]
     },
     "execution_count": 7,
     "metadata": {},
     "output_type": "execute_result"
    }
   ],
   "source": [
    "X.shape, Y.shape"
   ]
  },
  {
   "cell_type": "code",
   "execution_count": 8,
   "id": "ed444bea-964a-45d7-b7c6-fae38177b08f",
   "metadata": {},
   "outputs": [],
   "source": [
    "# let's build the embedding matrix C\n",
    "# paper has 17000 words embedded into 30 dims\n",
    "# we have 27 chars, so we'll embed them in 2d space\n",
    "\n",
    "C = torch.randn((27,2))"
   ]
  },
  {
   "cell_type": "code",
   "execution_count": 9,
   "id": "7cb2a8a0-9e34-402f-8c30-570ad10347f4",
   "metadata": {},
   "outputs": [],
   "source": [
    "assert torch.equal(\n",
    "    C[5], F.one_hot(torch.tensor(5), num_classes=27).float() @ C\n",
    ")\n",
    "# we can think of indexing as equivalently as the first 'layer'\n",
    "# of the neural net, where the layer is just a linear projection\n",
    "# of the index in to embedding space without an activation "
   ]
  },
  {
   "cell_type": "code",
   "execution_count": 10,
   "id": "f0dd1614-517d-490a-a71e-2f3a8a4ae167",
   "metadata": {},
   "outputs": [
    {
     "data": {
      "text/plain": [
       "(torch.Size([32, 3]), torch.Size([32, 3, 2]))"
      ]
     },
     "execution_count": 10,
     "metadata": {},
     "output_type": "execute_result"
    }
   ],
   "source": [
    "# simultaneously embed an entire batch\n",
    "assert torch.allclose(C[X[torch.arange(32)]], C[X])\n",
    "# C[X[torch.arange(32)]) indexes C for every example in the X batch\n",
    "# C[X] also does this\n",
    "batch_embeddings = C[X]\n",
    "X.shape, batch_embeddings.shape"
   ]
  },
  {
   "cell_type": "code",
   "execution_count": 11,
   "id": "6fe5446d-c1a1-4e7d-b666-4ef1eb553ac3",
   "metadata": {},
   "outputs": [],
   "source": [
    "# let's construct the neural network\n",
    "\n",
    "W1 = torch.randn((6,100))\n",
    "b1 = torch.randn(100)\n",
    "\n",
    "# flatten the 2-dimensional embedding\n",
    "Z1 = batch_embeddings.flatten(-2) @ W1 + b1\n",
    "Z1.shape\n",
    "\n",
    "emb = batch_embeddings\n",
    "# or we could flatten the embeddings the long way\n",
    "# we have a batch of 3x2 examples\n",
    "# we could concatenate the last dimension into the middle dim\n",
    "assert torch.equal(emb.flatten(-2), \n",
    "                      torch.cat((emb[:, 0, :], emb[:, 1, :], emb[:, 2, :]), dim=1)\n",
    "                     )\n",
    "\n",
    "# emb is a 32, 3, 2 tensor\n",
    "# 32 examples in the batch\n",
    "# each example is size 3x2\n",
    "# this means that each example is made up of 3 2-dimensional embeddings\n",
    "# in order to flatten each example for input to the nn:\n",
    "# we need to concatenate the 2-dimensional embeddings and arrange them along the first dim\n",
    "# ie for every example in the batch\n",
    "    # for every embedding in the example\n",
    "        # concatenate all embeddings\n",
    "\n",
    "# alternatively:\n",
    "torch.cat(torch.unbind(emb, 1), 1)\n",
    "                                                  \n",
    "                                                  "
   ]
  },
  {
   "cell_type": "code",
   "execution_count": 26,
   "id": "4f90608c-786a-4782-999e-bccf8fc80bfa",
   "metadata": {},
   "outputs": [
    {
     "name": "stdout",
     "output_type": "stream",
     "text": [
      "torch.Size([18])\n",
      "torch.Size([3, 3, 2])\n",
      "torch.Size([32, 100])\n"
     ]
    }
   ],
   "source": [
    "# a better way\n",
    "a = torch.arange(18)\n",
    "print(a.shape)\n",
    "print(a.view(3, 3, 2).shape)\n",
    "\n",
    "# tensors are represented as 1d vectors in memory, with dimensions stored separately\n",
    "#print(a.storage())\n",
    "\n",
    "# the significance of this is in-place reshaping operations are very efficient:\n",
    "# they need only modify the dimension attributes, rather than creating new tensors in memory\n",
    "\n",
    "h = torch.tanh(emb.view(-1, 6) @ W1 + b1)\n",
    "print(h.shape)\n",
    "\n",
    "# check broadcasting\n",
    "# emb.shape = 32, 6\n",
    "# W1.shape  = 6, 100\n",
    "# so (emb @ W1).shape = 32, 100\n",
    "# and we need to add to the bias with shape (100)\n",
    "\n",
    "# 6 100\n",
    "# 100 \n",
    "# gets broadcasted (aligning on the right) as \n",
    "# 6 100\n",
    "# 1 100#\n"
   ]
  },
  {
   "cell_type": "code",
   "execution_count": 28,
   "id": "dcd8734c-c063-4006-b853-6075994cbb5c",
   "metadata": {},
   "outputs": [],
   "source": [
    "# final layer\n",
    "\n",
    "W2 = torch.randn((100, 27))\n",
    "b2 = torch.randn((27))\n",
    "\n",
    "logits = h @ W2 + b2"
   ]
  },
  {
   "cell_type": "code",
   "execution_count": 37,
   "id": "c60cfc45-0023-44ab-ba18-3381fb4c7611",
   "metadata": {},
   "outputs": [
    {
     "name": "stdout",
     "output_type": "stream",
     "text": [
      "torch.Size([32, 27])\n",
      "torch.Size([32, 1])\n"
     ]
    }
   ],
   "source": [
    "counts = logits.exp()\n",
    "probs  = counts / counts.sum(dim=1, keepdims=True)\n",
    "\n",
    "print(counts.shape)\n",
    "print(counts.sum(dim=1, keepdims=True).shape)\n",
    "\n",
    "assert torch.allclose(F.softmax(logits, dim=1), probs)\n",
    "\n",
    "# why do we have to do keepdims=True for the manual softmax calculation?\n",
    "# counts.shape = (32, 27)\n",
    "# without keepdims: 32, 27\n",
    "#                   32\n",
    "# ie without doing keepdims, counts.sum(dim=1).shape=32\n",
    "# doing keepdims makes the broadcasting work bc .shape=(32, 1)\n"
   ]
  },
  {
   "cell_type": "code",
   "execution_count": 65,
   "id": "711f0404-f886-4d7e-a041-2df9692272ca",
   "metadata": {},
   "outputs": [
    {
     "data": {
      "text/plain": [
       "tensor(107.3899)"
      ]
     },
     "execution_count": 65,
     "metadata": {},
     "output_type": "execute_result"
    }
   ],
   "source": [
    "# find the log-likelihood\n",
    "\n",
    "Y.shape, probs.shape\n",
    "likelihoods = probs[torch.arange(Y.shape[0]), Y]\n",
    "\n",
    "# or equivalently, elementwise multiply the one-hot encoded labels with probs\n",
    "\n",
    "y_one_hot = F.one_hot(Y, num_classes=27).float()\n",
    "\n",
    "assert torch.equal((probs * y_one_hot).sum(dim=1), probs[torch.arange(probs.shape[0]), Y])\n",
    "\n",
    "log_likelihood = torch.sum(likelihoods.log())\n",
    "loss = -log_likelihood\n",
    "loss"
   ]
  },
  {
   "cell_type": "code",
   "execution_count": 282,
   "id": "115a6766-755e-4df7-a529-920bb03bc8db",
   "metadata": {},
   "outputs": [
    {
     "name": "stdout",
     "output_type": "stream",
     "text": [
      "11897\n"
     ]
    }
   ],
   "source": [
    "## cleaned up version of initialization ##\n",
    "g = torch.Generator().manual_seed(2147483647)\n",
    "C = torch.randn(27, 10, generator=g) # embedding matrix\n",
    "W1 = torch.randn(30, 200, generator=g)\n",
    "b1 = torch.randn(200, generator=g)\n",
    "W2 = torch.randn(200, 27, generator=g)\n",
    "b2 = torch.randn(27, generator=g)\n",
    "parameters = [C, W1, b1, W2, b2]\n",
    "print(sum(p.nelement() for p in parameters))"
   ]
  },
  {
   "cell_type": "code",
   "execution_count": 134,
   "id": "0c60b886-fe54-4cbc-aefe-6318c05b1b94",
   "metadata": {},
   "outputs": [
    {
     "name": "stdout",
     "output_type": "stream",
     "text": [
      "tensor(19.5052)\n",
      "tensor(17.7697)\n"
     ]
    }
   ],
   "source": [
    "emb = C[X] # get embeddings based on X\n",
    "z = torch.tanh(emb.view(-1, 6) @ W1 + b1)\n",
    "logits = z @ W2 + b2\n",
    "\n",
    "counts = logits.exp()\n",
    "probs = counts / counts.sum(dim=1, keepdims=True)\n",
    "log_likelihood = probs[torch.arange(probs.shape[0]), Y].log().mean()\n",
    "print(-log_likelihood)\n",
    "print(negative_log_likelihood_ce)\n",
    "\n",
    "# equivalently,\n",
    "negative_log_likelihood_ce = F.cross_entropy(logits, Y)\n",
    "assert abs(negative_log_likelihood_ce - -log_likelihood) < 0.001"
   ]
  },
  {
   "cell_type": "code",
   "execution_count": 118,
   "id": "234cd106-e7dd-49b9-a16d-1af526e2e5df",
   "metadata": {},
   "outputs": [
    {
     "name": "stdout",
     "output_type": "stream",
     "text": [
      "probs with a very negative value: tensor([0.0000e+00, 3.3311e-04, 6.6906e-03, 9.9298e-01])\n",
      "^^ well behaved\n",
      "probs with a very positive value: tensor([nan, 0., 0., 0.])\n",
      "^^ not well behaved\n",
      "probs (from offset logits): tensor([1.0000e+00, 1.4013e-45, 3.7835e-44, 5.5211e-42])\n",
      "^^ well behaved\n"
     ]
    }
   ],
   "source": [
    "# why we use cross entropy rather than manually calculating log-likelihood (aside from ease of use)\n",
    "# efficiency (fused kernels, simplified expressions, etc)\n",
    "# extreme value handling.. consider example below\n",
    "\n",
    "# very negative extreme logit value\n",
    "logits = torch.tensor([-100, -3, 0, 5])\n",
    "counts = logits.exp()\n",
    "probs = counts / counts.sum()\n",
    "print(f'probs with a very negative value: {probs}')\n",
    "print('^^ well behaved')\n",
    "# this is ok bc e^-<high number> just approaches 0\n",
    "\n",
    "# very positive extreme logit value\n",
    "logits = torch.tensor([100, -3, 0, 5])\n",
    "counts = logits.exp() # e^100 is a problem -- pytorch represents it as inf\n",
    "probs = counts / counts.sum() # division by infinity \n",
    "print(f'probs with a very positive value: {probs}')\n",
    "print(\"^^ not well behaved\")\n",
    "\n",
    "# F.cross entropy takes care of the high values by subtracting the max value\n",
    "logits = torch.tensor([100, -3, 0, 5])\n",
    "logits_offset = logits - logits.max()\n",
    "counts = logits_offset.exp()\n",
    "probs = counts / counts.sum()\n",
    "print(f'probs (from offset logits): {probs}')\n",
    "print(\"^^ well behaved\")"
   ]
  },
  {
   "cell_type": "code",
   "execution_count": 9,
   "id": "dea1ffe2-89ee-41c7-9b42-18398e92e3ec",
   "metadata": {},
   "outputs": [
    {
     "name": "stdout",
     "output_type": "stream",
     "text": [
      "torch.Size([228146, 3])\n",
      "10.709585189819336\n",
      "10.407631874084473\n",
      "10.127808570861816\n",
      "9.864364624023438\n",
      "9.61450481414795\n",
      "9.37644100189209\n",
      "9.148946762084961\n",
      "8.931112289428711\n",
      "8.722232818603516\n",
      "8.52175235748291\n"
     ]
    }
   ],
   "source": [
    "### --------- Training ------------ ###\n",
    "\n",
    "print(X.shape)\n",
    "\n",
    "for p in parameters:\n",
    "    p.requires_grad = True\n",
    "\n",
    "for _ in range(10):\n",
    "    # forward pass\n",
    "    assert torch.allclose(F.one_hot(X, num_classes=27).float() @ C, C[X])\n",
    "    emb = C[X]\n",
    "    h1 = torch.tanh(emb.view(-1, 6) @ W1 + b1)\n",
    "    logits = h1 @ W2 + b2\n",
    "    nll = F.cross_entropy(logits, Y) # mean reduction by default\n",
    "    print(nll.item())\n",
    "    # backward pass\n",
    "    for p in parameters:\n",
    "        p.grad = None  \n",
    "        \n",
    "    nll.backward()\n",
    "    \n",
    "    for p in parameters:\n",
    "        p.data += -0.1 * p.grad\n",
    "        \n"
   ]
  },
  {
   "cell_type": "code",
   "execution_count": 283,
   "id": "d17ad2d1-e1b9-48ee-927c-9875c8f3b5ae",
   "metadata": {},
   "outputs": [],
   "source": [
    "lri = []\n",
    "stepi = []\n",
    "lossi = []"
   ]
  },
  {
   "cell_type": "code",
   "execution_count": 298,
   "id": "290f7427-9769-4f50-a1af-7ffdde2caf62",
   "metadata": {},
   "outputs": [
    {
     "name": "stdout",
     "output_type": "stream",
     "text": [
      "2.3522260189056396\n"
     ]
    }
   ],
   "source": [
    "### Modify the training loop for minibatches ###\n",
    "\n",
    "#1 randomly select some portion of the dataset (\"minibatch\")\n",
    "#2 forward/backward/update using that minibatch\n",
    "#3 get a new minibatch for next iteration of trianing\n",
    "# then similar code as full gradient descent\n",
    "\n",
    "# minibatch size is a tradeoff btwn gradient accuracy and \n",
    "# number of steps\n",
    "\n",
    "for p in parameters:\n",
    "    p.requires_grad = True\n",
    "\n",
    "batch_size = 32\n",
    "for i in range(200000):\n",
    "    # minibatch selection\n",
    "    indices = torch.randint(0, Xtr.shape[0], (batch_size,))\n",
    "    X_batch = Xtr[indices]\n",
    "    Y_batch = Ytr[indices]\n",
    "    \n",
    "    # forward pass\n",
    "    #assert torch.allclose(F.one_hot(X, num_classes=27).float() @ C, C[X])\n",
    "    emb = C[X_batch]\n",
    "    h1 = torch.tanh(emb.view(-1, 30) @ W1 + b1)\n",
    "    logits = h1 @ W2 + b2\n",
    "    nll = F.cross_entropy(logits, Y_batch) # mean reduction by default\n",
    "    # backward pass\n",
    "    for p in parameters:\n",
    "        p.grad = None  \n",
    "        \n",
    "    nll.backward()\n",
    "    \n",
    "    lr = 0.01\n",
    "    for p in parameters:\n",
    "        p.data += -lr * p.grad\n",
    "\n",
    "    lossi.append(nll.log10().item())\n",
    "    lri.append(lr)\n",
    "    stepi.append(i)\n",
    "    \n",
    "print(nll.item())\n"
   ]
  },
  {
   "cell_type": "code",
   "execution_count": 288,
   "id": "e1d0c01f-f3f5-4d7c-9b8f-c869391a468c",
   "metadata": {},
   "outputs": [
    {
     "data": {
      "text/plain": [
       "[<matplotlib.lines.Line2D at 0x317ecf080>]"
      ]
     },
     "execution_count": 288,
     "metadata": {},
     "output_type": "execute_result"
    },
    {
     "data": {
      "image/png": "[encoded data removed]",
      "text/plain": [
       "<Figure size 640x480 with 1 Axes>"
      ]
     },
     "metadata": {},
     "output_type": "display_data"
    }
   ],
   "source": [
    "plt.plot(stepi, lossi)"
   ]
  },
  {
   "cell_type": "code",
   "execution_count": 299,
   "id": "d6c5c192-617b-4a00-ba79-5030cc3c8972",
   "metadata": {},
   "outputs": [
    {
     "name": "stdout",
     "output_type": "stream",
     "text": [
      "full training set nll: 2.200216293334961\n"
     ]
    }
   ],
   "source": [
    "# check the train set loss\n",
    "emb = C[Xtr]\n",
    "h = torch.tanh(emb.view(-1, 30) @ W1 + b1)\n",
    "logits = h @ W2 + b2\n",
    "nll = F.cross_entropy(logits, Ytr)\n",
    "print(f'full training set nll: {nll}')"
   ]
  },
  {
   "cell_type": "code",
   "execution_count": 300,
   "id": "b460727a-3864-47f4-9e74-ed4f03a98195",
   "metadata": {},
   "outputs": [
    {
     "name": "stdout",
     "output_type": "stream",
     "text": [
      "full training set nll: 2.2286133766174316\n"
     ]
    }
   ],
   "source": [
    "# check the dev set loss\n",
    "emb = C[Xdev]\n",
    "h = torch.tanh(emb.view(-1, 30) @ W1 + b1)\n",
    "logits = h @ W2 + b2\n",
    "nll = F.cross_entropy(logits, Ydev)\n",
    "print(f'full training set nll: {nll}')"
   ]
  },
  {
   "cell_type": "code",
   "execution_count": 281,
   "id": "67fd047a-ae4f-4cdd-b62f-094a9c0b7d8f",
   "metadata": {},
   "outputs": [
    {
     "data": {
      "image/png": "[encoded data removed]",
      "text/plain": [
       "<Figure size 800x800 with 1 Axes>"
      ]
     },
     "metadata": {},
     "output_type": "display_data"
    }
   ],
   "source": [
    "# plot the 2d embeddings\n",
    "assert C.shape[1] == 2\n",
    "plt.figure(figsize=(8,8))\n",
    "plt.scatter(C[:,0].data, C[:,1].data, s=200)\n",
    "for i in range(C.shape[0]):\n",
    "    plt.text(C[i,0].item(), C[i,1].item(), itos[i], ha=\"center\", va=\"center\", color='white')\n",
    "    plt.grid('minor')"
   ]
  },
  {
   "cell_type": "code",
   "execution_count": 20,
   "id": "4d233689-a92d-4548-ad46-b4e0696f9c43",
   "metadata": {},
   "outputs": [
    {
     "name": "stdout",
     "output_type": "stream",
     "text": [
      "7.68198823928833\n"
     ]
    },
    {
     "data": {
      "text/plain": [
       "[<matplotlib.lines.Line2D at 0x3042be240>]"
      ]
     },
     "execution_count": 20,
     "metadata": {},
     "output_type": "execute_result"
    },
    {
     "data": {
      "image/png": "[encoded data removed]",
      "text/plain": [
       "<Figure size 640x480 with 1 Axes>"
      ]
     },
     "metadata": {},
     "output_type": "display_data"
    }
   ],
   "source": [
    "# How to determine the optimal learning rate\n",
    "# plot loss against an incrementally increasing learning rate value\n",
    "\n",
    "losses = []\n",
    "lrs=[]\n",
    "start = 1\n",
    "\n",
    "learning_rates_exp = torch.linspace(-3, 0, 1000)\n",
    "learning_rates = 10**learning_rates_exp\n",
    "\n",
    "# train as before, but set learning rates and track loss\n",
    "for p in parameters:\n",
    "    p.requires_grad = True\n",
    "\n",
    "batch_size = 32\n",
    "for i in range(len(learning_rates)):\n",
    "    # minibatch selection\n",
    "    indices = torch.randint(0, X.shape[0], (batch_size,))\n",
    "    X_batch = X[indices]\n",
    "    Y_batch = Y[indices]\n",
    "    \n",
    "    # forward pass\n",
    "    #assert torch.allclose(F.one_hot(X, num_classes=27).float() @ C, C[X])\n",
    "    emb = C[X_batch]\n",
    "    h1 = torch.tanh(emb.view(-1, 6) @ W1 + b1)\n",
    "    logits = h1 @ W2 + b2\n",
    "    nll = F.cross_entropy(logits, Y_batch) # mean reduction by default\n",
    "    # backward pass\n",
    "    for p in parameters:\n",
    "        p.grad = None  \n",
    "        \n",
    "    nll.backward()\n",
    "\n",
    "    lr = learning_rates[i]\n",
    "    for p in parameters:\n",
    "        p.data +=  -lr * p.grad\n",
    "\n",
    "    losses.append(nll.detach())\n",
    "    lrs.append(lr)\n",
    "print(nll.item())\n",
    "\n",
    "plt.plot(learning_rates_exp, losses)\n",
    "# plt.plot(x, y)\n",
    "\n",
    "\n",
    "# This shows an exponenet of -1 (is 10**-1) is optimal for the learning rate\n",
    "# since it is the bottom of the loss-lr curve"
   ]
  },
  {
   "cell_type": "code",
   "execution_count": 70,
   "id": "23d1c0f4-4fbc-468b-8b8a-a7363311865e",
   "metadata": {},
   "outputs": [
    {
     "name": "stdout",
     "output_type": "stream",
     "text": [
      "X.shape=torch.Size([182580, 3]), Y.shape=torch.Size([182580])\n",
      "X.shape=torch.Size([22740, 3]), Y.shape=torch.Size([22740])\n",
      "X.shape=torch.Size([22826, 3]), Y.shape=torch.Size([22826])\n"
     ]
    }
   ],
   "source": [
    "# But this might be overfitting - let's create train/dev/test splits\n",
    "# train for model parameters\n",
    "# dev used for hyperparameters\n",
    "# test used for performance evaluation\n",
    "\n",
    "\n",
    "def build_dataset(words):\n",
    "    # words is a list of all words in dataset\n",
    "    block_size = 3\n",
    "    X, Y = [], []\n",
    "    for w in words:\n",
    "        context = [0]*block_size\n",
    "        for ch in w + '.':\n",
    "            ix = stoi[ch]\n",
    "            Y.append(ix)\n",
    "            X.append(context)\n",
    "            context = context[1:]\n",
    "            context.append(ix)\n",
    "    X = torch.tensor(X)\n",
    "    Y = torch.tensor(Y)\n",
    "    print(f'{X.shape=}, {Y.shape=}')\n",
    "    return X, Y\n",
    "\n",
    "import random\n",
    "random.seed(42)\n",
    "random.shuffle(words)\n",
    "n1 = int(0.8 * len(words))\n",
    "n2 = int(0.9 * len(words))\n",
    "\n",
    "# train set\n",
    "Xtr, Ytr = build_dataset(words[:n1])\n",
    "\n",
    "# dev set \n",
    "Xdev, Ydev = build_dataset(words[n1:n2])\n",
    "\n",
    "# test set\n",
    "Xte, Yte = build_dataset(words[n2:])\n"
   ]
  },
  {
   "cell_type": "code",
   "execution_count": 62,
   "id": "7314f7e8-27bf-4e6f-8f0c-23418130221a",
   "metadata": {},
   "outputs": [
    {
     "name": "stdout",
     "output_type": "stream",
     "text": [
      "25626 28829\n"
     ]
    }
   ],
   "source": [
    "len(words)\n"
   ]
  }
 ],
 "metadata": {
  "kernelspec": {
   "display_name": "Python 3 (ipykernel)",
   "language": "python",
   "name": "python3"
  },
  "language_info": {
   "codemirror_mode": {
    "name": "ipython",
    "version": 3
   },
   "file_extension": ".py",
   "mimetype": "text/x-python",
   "name": "python",
   "nbconvert_exporter": "python",
   "pygments_lexer": "ipython3",
   "version": "3.12.4"
  }
 },
 "nbformat": 4,
 "nbformat_minor": 5
}
